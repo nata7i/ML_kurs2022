
  {
   "cell_type": "code",
   "execution_count": 46,
   "id": "72fafdd8",
   "metadata": {},
   "outputs": [],
   "source": [
    "import pandas as pd\n",
    "import matplotlib.pyplot as plt\n",
    "from sklearn.preprocessing import LabelEncoder\n",
    "from sklearn.model_selection import train_test_split\n",
    "from catboost import CatBoostRegressor\n",
    "from catboost import CatBoostClassifier\n",
    "from sklearn.metrics import r2_score\n",
    "from sklearn.metrics import recall_score"
   ]
  },
  {
   "cell_type": "code",
   "execution_count": 17,
   "id": "0e011aaf",
   "metadata": {
    "scrolled": false
   },
   "outputs": [
    {
     "data": {
      "text/html": [
       "<div>\n",
       "<style scoped>\n",
       "    .dataframe tbody tr th:only-of-type {\n",
       "        vertical-align: middle;\n",
       "    }\n",
       "\n",
       "    .dataframe tbody tr th {\n",
       "        vertical-align: top;\n",
       "    }\n",
       "\n",
       "    .dataframe thead th {\n",
       "        text-align: right;\n",
       "    }\n",
       "</style>\n",
       "<table border=\"1\" class=\"dataframe\">\n",
       "  <thead>\n",
       "    <tr style=\"text-align: right;\">\n",
       "      <th></th>\n",
       "      <th>id</th>\n",
       "      <th>ticket_id</th>\n",
       "      <th>ticket_type_nm</th>\n",
       "      <th>entrance_id</th>\n",
       "      <th>entrance_nm</th>\n",
       "      <th>station_id</th>\n",
       "      <th>station_nm</th>\n",
       "      <th>line_id</th>\n",
       "      <th>line_nm</th>\n",
       "      <th>pass_dttm</th>\n",
       "      <th>time_to_under</th>\n",
       "      <th>label</th>\n",
       "    </tr>\n",
       "  </thead>\n",
       "  <tbody>\n",
       "    <tr>\n",
       "      <th>0</th>\n",
       "      <td>1</td>\n",
       "      <td>40BD89EC85646EFB69E283F39C298E60</td>\n",
       "      <td>Пропуск FacePay</td>\n",
       "      <td>2402</td>\n",
       "      <td>Лефортово БКЛ</td>\n",
       "      <td>11007</td>\n",
       "      <td>Лефортово</td>\n",
       "      <td>11</td>\n",
       "      <td>Большая кольцевая</td>\n",
       "      <td>2022-09-12 05:00:13</td>\n",
       "      <td>216.316667</td>\n",
       "      <td>8001</td>\n",
       "    </tr>\n",
       "    <tr>\n",
       "      <th>1</th>\n",
       "      <td>2</td>\n",
       "      <td>126727A96489CC976A8C08E5CEB00542</td>\n",
       "      <td>СК учащегося 30 дней</td>\n",
       "      <td>110</td>\n",
       "      <td>Войковская ( Южный )</td>\n",
       "      <td>2006</td>\n",
       "      <td>Войковская</td>\n",
       "      <td>2</td>\n",
       "      <td>Замоскворецкая</td>\n",
       "      <td>2022-09-12 05:00:54</td>\n",
       "      <td>648.183333</td>\n",
       "      <td>9011</td>\n",
       "    </tr>\n",
       "    <tr>\n",
       "      <th>2</th>\n",
       "      <td>3</td>\n",
       "      <td>D28CE6A9E0E5B6D213470A97CFF32485</td>\n",
       "      <td>БСК дружинника г.Москвы</td>\n",
       "      <td>110</td>\n",
       "      <td>Войковская ( Южный )</td>\n",
       "      <td>2006</td>\n",
       "      <td>Войковская</td>\n",
       "      <td>2</td>\n",
       "      <td>Замоскворецкая</td>\n",
       "      <td>2022-09-12 05:00:55</td>\n",
       "      <td>865.333333</td>\n",
       "      <td>7022</td>\n",
       "    </tr>\n",
       "    <tr>\n",
       "      <th>3</th>\n",
       "      <td>4</td>\n",
       "      <td>015DA44B523C062B5BFEFF3FB0E64B9E</td>\n",
       "      <td>30 дней</td>\n",
       "      <td>110</td>\n",
       "      <td>Войковская ( Южный )</td>\n",
       "      <td>2006</td>\n",
       "      <td>Войковская</td>\n",
       "      <td>2</td>\n",
       "      <td>Замоскворецкая</td>\n",
       "      <td>2022-09-12 05:01:13</td>\n",
       "      <td>1048.233333</td>\n",
       "      <td>2022</td>\n",
       "    </tr>\n",
       "    <tr>\n",
       "      <th>4</th>\n",
       "      <td>5</td>\n",
       "      <td>95B19C6F3A504727AC3EA56EB7E3E80F</td>\n",
       "      <td>КОШЕЛЕК</td>\n",
       "      <td>110</td>\n",
       "      <td>Войковская ( Южный )</td>\n",
       "      <td>2006</td>\n",
       "      <td>Войковская</td>\n",
       "      <td>2</td>\n",
       "      <td>Замоскворецкая</td>\n",
       "      <td>2022-09-12 05:02:55</td>\n",
       "      <td>965.600000</td>\n",
       "      <td>2017</td>\n",
       "    </tr>\n",
       "    <tr>\n",
       "      <th>...</th>\n",
       "      <td>...</td>\n",
       "      <td>...</td>\n",
       "      <td>...</td>\n",
       "      <td>...</td>\n",
       "      <td>...</td>\n",
       "      <td>...</td>\n",
       "      <td>...</td>\n",
       "      <td>...</td>\n",
       "      <td>...</td>\n",
       "      <td>...</td>\n",
       "      <td>...</td>\n",
       "      <td>...</td>\n",
       "    </tr>\n",
       "    <tr>\n",
       "      <th>1091016</th>\n",
       "      <td>1091017</td>\n",
       "      <td>6A738232F8E43DFCD4027FDC0EA6CC03</td>\n",
       "      <td>Пропуск FacePay</td>\n",
       "      <td>2283</td>\n",
       "      <td>Нижегородская (второй)</td>\n",
       "      <td>15005</td>\n",
       "      <td>Нижегородская</td>\n",
       "      <td>15</td>\n",
       "      <td>Некрасовская</td>\n",
       "      <td>2022-09-19 02:54:50</td>\n",
       "      <td>124.750000</td>\n",
       "      <td>15005</td>\n",
       "    </tr>\n",
       "    <tr>\n",
       "      <th>1091017</th>\n",
       "      <td>1091018</td>\n",
       "      <td>141174B366F14A8703903813A49374DB</td>\n",
       "      <td>Пропуск FacePay</td>\n",
       "      <td>278</td>\n",
       "      <td>Калужская (Северный)</td>\n",
       "      <td>6007</td>\n",
       "      <td>Калужская</td>\n",
       "      <td>6</td>\n",
       "      <td>Калужско-Рижская</td>\n",
       "      <td>2022-09-19 03:06:02</td>\n",
       "      <td>56.066667</td>\n",
       "      <td>6007</td>\n",
       "    </tr>\n",
       "    <tr>\n",
       "      <th>1091018</th>\n",
       "      <td>1091019</td>\n",
       "      <td>E38493B30A7C55170806F187AF5EEA15</td>\n",
       "      <td>Пропуск FacePay</td>\n",
       "      <td>118</td>\n",
       "      <td>Каширская (Северный )</td>\n",
       "      <td>2010</td>\n",
       "      <td>Каширская</td>\n",
       "      <td>2</td>\n",
       "      <td>Замоскворецкая</td>\n",
       "      <td>2022-09-19 03:17:00</td>\n",
       "      <td>91.283333</td>\n",
       "      <td>2010</td>\n",
       "    </tr>\n",
       "    <tr>\n",
       "      <th>1091019</th>\n",
       "      <td>1091020</td>\n",
       "      <td>3DF2B6366631ECA06274DD2CB5B0DF24</td>\n",
       "      <td>Пропуск FacePay</td>\n",
       "      <td>2452</td>\n",
       "      <td>Воронцовская (Первый)</td>\n",
       "      <td>11014</td>\n",
       "      <td>Воронцовская</td>\n",
       "      <td>11</td>\n",
       "      <td>Большая кольцевая</td>\n",
       "      <td>2022-09-19 03:23:30</td>\n",
       "      <td>47.900000</td>\n",
       "      <td>11014</td>\n",
       "    </tr>\n",
       "    <tr>\n",
       "      <th>1091020</th>\n",
       "      <td>1091021</td>\n",
       "      <td>80DA097A0BBFD91F5B15697AD53F8D3B</td>\n",
       "      <td>Пропуск FacePay</td>\n",
       "      <td>320</td>\n",
       "      <td>Пушкинская</td>\n",
       "      <td>7015</td>\n",
       "      <td>Пушкинская</td>\n",
       "      <td>7</td>\n",
       "      <td>Таганско-Краснопресненская</td>\n",
       "      <td>2022-09-19 04:10:42</td>\n",
       "      <td>34.100000</td>\n",
       "      <td>7015</td>\n",
       "    </tr>\n",
       "  </tbody>\n",
       "</table>\n",
       "<p>1091021 rows × 12 columns</p>\n",
       "</div>"
      ],
      "text/plain": [
       "              id                         ticket_id           ticket_type_nm  \\\n",
       "0              1  40BD89EC85646EFB69E283F39C298E60          Пропуск FacePay   \n",
       "1              2  126727A96489CC976A8C08E5CEB00542     СК учащегося 30 дней   \n",
       "2              3  D28CE6A9E0E5B6D213470A97CFF32485  БСК дружинника г.Москвы   \n",
       "3              4  015DA44B523C062B5BFEFF3FB0E64B9E                  30 дней   \n",
       "4              5  95B19C6F3A504727AC3EA56EB7E3E80F                  КОШЕЛЕК   \n",
       "...          ...                               ...                      ...   \n",
       "1091016  1091017  6A738232F8E43DFCD4027FDC0EA6CC03          Пропуск FacePay   \n",
       "1091017  1091018  141174B366F14A8703903813A49374DB          Пропуск FacePay   \n",
       "1091018  1091019  E38493B30A7C55170806F187AF5EEA15          Пропуск FacePay   \n",
       "1091019  1091020  3DF2B6366631ECA06274DD2CB5B0DF24          Пропуск FacePay   \n",
       "1091020  1091021  80DA097A0BBFD91F5B15697AD53F8D3B          Пропуск FacePay   \n",
       "\n",
       "         entrance_id             entrance_nm  station_id     station_nm  \\\n",
       "0               2402           Лефортово БКЛ       11007      Лефортово   \n",
       "1                110    Войковская ( Южный )        2006     Войковская   \n",
       "2                110    Войковская ( Южный )        2006     Войковская   \n",
       "3                110    Войковская ( Южный )        2006     Войковская   \n",
       "4                110    Войковская ( Южный )        2006     Войковская   \n",
       "...              ...                     ...         ...            ...   \n",
       "1091016         2283  Нижегородская (второй)       15005  Нижегородская   \n",
       "1091017          278    Калужская (Северный)        6007      Калужская   \n",
       "1091018          118   Каширская (Северный )        2010      Каширская   \n",
       "1091019         2452   Воронцовская (Первый)       11014   Воронцовская   \n",
       "1091020          320              Пушкинская        7015     Пушкинская   \n",
       "\n",
       "         line_id                     line_nm            pass_dttm  \\\n",
       "0             11           Большая кольцевая  2022-09-12 05:00:13   \n",
       "1              2              Замоскворецкая  2022-09-12 05:00:54   \n",
       "2              2              Замоскворецкая  2022-09-12 05:00:55   \n",
       "3              2              Замоскворецкая  2022-09-12 05:01:13   \n",
       "4              2              Замоскворецкая  2022-09-12 05:02:55   \n",
       "...          ...                         ...                  ...   \n",
       "1091016       15                Некрасовская  2022-09-19 02:54:50   \n",
       "1091017        6            Калужско-Рижская  2022-09-19 03:06:02   \n",
       "1091018        2              Замоскворецкая  2022-09-19 03:17:00   \n",
       "1091019       11           Большая кольцевая  2022-09-19 03:23:30   \n",
       "1091020        7  Таганско-Краснопресненская  2022-09-19 04:10:42   \n",
       "\n",
       "         time_to_under  label  \n",
       "0           216.316667   8001  \n",
       "1           648.183333   9011  \n",
       "2           865.333333   7022  \n",
       "3          1048.233333   2022  \n",
       "4           965.600000   2017  \n",
       "...                ...    ...  \n",
       "1091016     124.750000  15005  \n",
       "1091017      56.066667   6007  \n",
       "1091018      91.283333   2010  \n",
       "1091019      47.900000  11014  \n",
       "1091020      34.100000   7015  \n",
       "\n",
       "[1091021 rows x 12 columns]"
      ]
     },
     "execution_count": 17,
     "metadata": {},
     "output_type": "execute_result"
    }
   ],
   "source": [
    "df = pd.read_csv('train_dataset_train.csv', sep=',')\n",
    "df"
   ]
  },
  {
   "cell_type": "code",
   "execution_count": 18,
   "id": "3ff44246",
   "metadata": {
    "scrolled": false
   },
   "outputs": [
    {
     "data": {
      "text/html": [
       "<div>\n",
       "<style scoped>\n",
       "    .dataframe tbody tr th:only-of-type {\n",
       "        vertical-align: middle;\n",
       "    }\n",
       "\n",
       "    .dataframe tbody tr th {\n",
       "        vertical-align: top;\n",
       "    }\n",
       "\n",
       "    .dataframe thead th {\n",
       "        text-align: right;\n",
       "    }\n",
       "</style>\n",
       "<table border=\"1\" class=\"dataframe\">\n",
       "  <thead>\n",
       "    <tr style=\"text-align: right;\">\n",
       "      <th></th>\n",
       "      <th>ticket_type_nm</th>\n",
       "      <th>entrance_id</th>\n",
       "      <th>station_id</th>\n",
       "      <th>line_id</th>\n",
       "      <th>pass_dttm</th>\n",
       "      <th>time_to_under</th>\n",
       "      <th>label</th>\n",
       "    </tr>\n",
       "  </thead>\n",
       "  <tbody>\n",
       "    <tr>\n",
       "      <th>0</th>\n",
       "      <td>Пропуск FacePay</td>\n",
       "      <td>2402</td>\n",
       "      <td>11007</td>\n",
       "      <td>11</td>\n",
       "      <td>2022-09-12 05:00:13</td>\n",
       "      <td>216.316667</td>\n",
       "      <td>8001</td>\n",
       "    </tr>\n",
       "    <tr>\n",
       "      <th>1</th>\n",
       "      <td>СК учащегося 30 дней</td>\n",
       "      <td>110</td>\n",
       "      <td>2006</td>\n",
       "      <td>2</td>\n",
       "      <td>2022-09-12 05:00:54</td>\n",
       "      <td>648.183333</td>\n",
       "      <td>9011</td>\n",
       "    </tr>\n",
       "    <tr>\n",
       "      <th>2</th>\n",
       "      <td>БСК дружинника г.Москвы</td>\n",
       "      <td>110</td>\n",
       "      <td>2006</td>\n",
       "      <td>2</td>\n",
       "      <td>2022-09-12 05:00:55</td>\n",
       "      <td>865.333333</td>\n",
       "      <td>7022</td>\n",
       "    </tr>\n",
       "    <tr>\n",
       "      <th>3</th>\n",
       "      <td>30 дней</td>\n",
       "      <td>110</td>\n",
       "      <td>2006</td>\n",
       "      <td>2</td>\n",
       "      <td>2022-09-12 05:01:13</td>\n",
       "      <td>1048.233333</td>\n",
       "      <td>2022</td>\n",
       "    </tr>\n",
       "    <tr>\n",
       "      <th>4</th>\n",
       "      <td>КОШЕЛЕК</td>\n",
       "      <td>110</td>\n",
       "      <td>2006</td>\n",
       "      <td>2</td>\n",
       "      <td>2022-09-12 05:02:55</td>\n",
       "      <td>965.600000</td>\n",
       "      <td>2017</td>\n",
       "    </tr>\n",
       "    <tr>\n",
       "      <th>...</th>\n",
       "      <td>...</td>\n",
       "      <td>...</td>\n",
       "      <td>...</td>\n",
       "      <td>...</td>\n",
       "      <td>...</td>\n",
       "      <td>...</td>\n",
       "      <td>...</td>\n",
       "    </tr>\n",
       "    <tr>\n",
       "      <th>1091016</th>\n",
       "      <td>Пропуск FacePay</td>\n",
       "      <td>2283</td>\n",
       "      <td>15005</td>\n",
       "      <td>15</td>\n",
       "      <td>2022-09-19 02:54:50</td>\n",
       "      <td>124.750000</td>\n",
       "      <td>15005</td>\n",
       "    </tr>\n",
       "    <tr>\n",
       "      <th>1091017</th>\n",
       "      <td>Пропуск FacePay</td>\n",
       "      <td>278</td>\n",
       "      <td>6007</td>\n",
       "      <td>6</td>\n",
       "      <td>2022-09-19 03:06:02</td>\n",
       "      <td>56.066667</td>\n",
       "      <td>6007</td>\n",
       "    </tr>\n",
       "    <tr>\n",
       "      <th>1091018</th>\n",
       "      <td>Пропуск FacePay</td>\n",
       "      <td>118</td>\n",
       "      <td>2010</td>\n",
       "      <td>2</td>\n",
       "      <td>2022-09-19 03:17:00</td>\n",
       "      <td>91.283333</td>\n",
       "      <td>2010</td>\n",
       "    </tr>\n",
       "    <tr>\n",
       "      <th>1091019</th>\n",
       "      <td>Пропуск FacePay</td>\n",
       "      <td>2452</td>\n",
       "      <td>11014</td>\n",
       "      <td>11</td>\n",
       "      <td>2022-09-19 03:23:30</td>\n",
       "      <td>47.900000</td>\n",
       "      <td>11014</td>\n",
       "    </tr>\n",
       "    <tr>\n",
       "      <th>1091020</th>\n",
       "      <td>Пропуск FacePay</td>\n",
       "      <td>320</td>\n",
       "      <td>7015</td>\n",
       "      <td>7</td>\n",
       "      <td>2022-09-19 04:10:42</td>\n",
       "      <td>34.100000</td>\n",
       "      <td>7015</td>\n",
       "    </tr>\n",
       "  </tbody>\n",
       "</table>\n",
       "<p>1091021 rows × 7 columns</p>\n",
       "</div>"
      ],
      "text/plain": [
       "                  ticket_type_nm  entrance_id  station_id  line_id  \\\n",
       "0                Пропуск FacePay         2402       11007       11   \n",
       "1           СК учащегося 30 дней          110        2006        2   \n",
       "2        БСК дружинника г.Москвы          110        2006        2   \n",
       "3                        30 дней          110        2006        2   \n",
       "4                        КОШЕЛЕК          110        2006        2   \n",
       "...                          ...          ...         ...      ...   \n",
       "1091016          Пропуск FacePay         2283       15005       15   \n",
       "1091017          Пропуск FacePay          278        6007        6   \n",
       "1091018          Пропуск FacePay          118        2010        2   \n",
       "1091019          Пропуск FacePay         2452       11014       11   \n",
       "1091020          Пропуск FacePay          320        7015        7   \n",
       "\n",
       "                   pass_dttm  time_to_under  label  \n",
       "0        2022-09-12 05:00:13     216.316667   8001  \n",
       "1        2022-09-12 05:00:54     648.183333   9011  \n",
       "2        2022-09-12 05:00:55     865.333333   7022  \n",
       "3        2022-09-12 05:01:13    1048.233333   2022  \n",
       "4        2022-09-12 05:02:55     965.600000   2017  \n",
       "...                      ...            ...    ...  \n",
       "1091016  2022-09-19 02:54:50     124.750000  15005  \n",
       "1091017  2022-09-19 03:06:02      56.066667   6007  \n",
       "1091018  2022-09-19 03:17:00      91.283333   2010  \n",
       "1091019  2022-09-19 03:23:30      47.900000  11014  \n",
       "1091020  2022-09-19 04:10:42      34.100000   7015  \n",
       "\n",
       "[1091021 rows x 7 columns]"
      ]
     },
     "execution_count": 18,
     "metadata": {},
     "output_type": "execute_result"
    }
   ],
   "source": [
    "df = pd.read_csv('train_dataset_train.csv', sep=',')\n",
    "columns_to_drop = [\n",
    "    'entrance_nm',\n",
    "    'station_nm',\n",
    "    'line_nm',\n",
    "    'id',\n",
    "    'ticket_id'\n",
    "]\n",
    "df.drop(labels=columns_to_drop, axis=1, inplace=True)\n",
    "df"
   ]
  },
  {
   "cell_type": "code",
   "execution_count": 19,
   "id": "bb98d45d",
   "metadata": {
    "scrolled": true
   },
   "outputs": [
    {
     "data": {
      "text/plain": [
       "0          2022-09-12 05:00:13\n",
       "1          2022-09-12 05:00:54\n",
       "2          2022-09-12 05:00:55\n",
       "3          2022-09-12 05:01:13\n",
       "4          2022-09-12 05:02:55\n",
       "                  ...         \n",
       "1091016    2022-09-19 02:54:50\n",
       "1091017    2022-09-19 03:06:02\n",
       "1091018    2022-09-19 03:17:00\n",
       "1091019    2022-09-19 03:23:30\n",
       "1091020    2022-09-19 04:10:42\n",
       "Name: pass_dttm, Length: 1091021, dtype: object"
      ]
     },
     "execution_count": 19,
     "metadata": {},
     "output_type": "execute_result"
    }
   ],
   "source": [
    "df['pass_dttm']"
   ]
  },
  {
   "cell_type": "code",
   "execution_count": 20,
   "id": "d31e0ea6",
   "metadata": {
    "scrolled": true
   },
   "outputs": [],
   "source": [
    "pass_hour = [int(hour.split(\" \")[1].split(\":\")[0]) for hour in df['pass_dttm']]"
   ]
  },
  {
   "cell_type": "code",
   "execution_count": 21,
   "id": "5006f533",
   "metadata": {},
   "outputs": [],
   "source": [
    "def filter_for_hours(hour: int) -> int: \n",
    "    if hour in [1, 2, 3, 4, 5, 6]: # ранний\n",
    "        return 1\n",
    "    elif hour in [7, 8, 9]: # утренний час-пик\n",
    "        return 2\n",
    "    elif hour in [10, 11, 12, 13, 14, 15, 16, 20, 21, 22, 23, 0, 1]: # нейтральный\n",
    "        return 3\n",
    "    elif hour in [17, 18, 19]: # вечерний час-пик\n",
    "        return 4"
   ]
  },
  {
   "cell_type": "code",
   "execution_count": 22,
   "id": "be70c371",
   "metadata": {},
   "outputs": [],
   "source": [
    "pass_hour = [filter_for_hours(hour) for hour in pass_hour]"
   ]
  },
  {
   "cell_type": "code",
   "execution_count": 23,
   "id": "3736b04f",
   "metadata": {
    "scrolled": true
   },
   "outputs": [],
   "source": [
    "df['pass_dttm'] = pass_hour"
   ]
  },
  {
   "cell_type": "code",
   "execution_count": 24,
   "id": "42f63d12",
   "metadata": {},
   "outputs": [],
   "source": [
    "ticket_type_nm_encoded_list = LabelEncoder().fit_transform(df['ticket_type_nm'].values)\n",
    "entrance_id_encoded_list = LabelEncoder().fit_transform(df['entrance_id'].values)\n",
    "station_id_encoded_list = LabelEncoder().fit_transform(df['station_id'].values)\n",
    "label_encoded_list = LabelEncoder().fit_transform(df['label'].values)"
   ]
  },
  {
   "cell_type": "code",
   "execution_count": 25,
   "id": "281274c8",
   "metadata": {},
   "outputs": [],
   "source": [
    "df['ticket_type_nm'] = ticket_type_nm_encoded_list\n",
    "df['entrance_id'] = entrance_id_encoded_list\n",
    "df['station_id'] = station_id_encoded_list\n",
    "df['label'] = label_encoded_list"
   ]
  },
  {
   "cell_type": "code",
   "execution_count": 26,
   "id": "b4cc8c05",
   "metadata": {},
   "outputs": [],
   "source": [
    "scaled_values = df['time_to_under'] / df['time_to_under'].max()\n",
    "df['time_to_under'] = scaled_values"
   ]
  },
  {
   "cell_type": "code",
   "execution_count": 27,
   "id": "702f804b",
   "metadata": {},
   "outputs": [
    {
     "data": {
      "text/html": [
       "<div>\n",
       "<style scoped>\n",
       "    .dataframe tbody tr th:only-of-type {\n",
       "        vertical-align: middle;\n",
       "    }\n",
       "\n",
       "    .dataframe tbody tr th {\n",
       "        vertical-align: top;\n",
       "    }\n",
       "\n",
       "    .dataframe thead th {\n",
       "        text-align: right;\n",
       "    }\n",
       "</style>\n",
       "<table border=\"1\" class=\"dataframe\">\n",
       "  <thead>\n",
       "    <tr style=\"text-align: right;\">\n",
       "      <th></th>\n",
       "      <th>ticket_type_nm</th>\n",
       "      <th>entrance_id</th>\n",
       "      <th>station_id</th>\n",
       "      <th>line_id</th>\n",
       "      <th>pass_dttm</th>\n",
       "      <th>time_to_under</th>\n",
       "      <th>label</th>\n",
       "    </tr>\n",
       "  </thead>\n",
       "  <tbody>\n",
       "    <tr>\n",
       "      <th>0</th>\n",
       "      <td>40</td>\n",
       "      <td>402</td>\n",
       "      <td>198</td>\n",
       "      <td>11</td>\n",
       "      <td>1</td>\n",
       "      <td>0.150490</td>\n",
       "      <td>137</td>\n",
       "    </tr>\n",
       "    <tr>\n",
       "      <th>1</th>\n",
       "      <td>53</td>\n",
       "      <td>53</td>\n",
       "      <td>29</td>\n",
       "      <td>2</td>\n",
       "      <td>1</td>\n",
       "      <td>0.450936</td>\n",
       "      <td>155</td>\n",
       "    </tr>\n",
       "    <tr>\n",
       "      <th>2</th>\n",
       "      <td>26</td>\n",
       "      <td>53</td>\n",
       "      <td>29</td>\n",
       "      <td>2</td>\n",
       "      <td>1</td>\n",
       "      <td>0.602006</td>\n",
       "      <td>135</td>\n",
       "    </tr>\n",
       "    <tr>\n",
       "      <th>3</th>\n",
       "      <td>3</td>\n",
       "      <td>53</td>\n",
       "      <td>29</td>\n",
       "      <td>2</td>\n",
       "      <td>1</td>\n",
       "      <td>0.729248</td>\n",
       "      <td>43</td>\n",
       "    </tr>\n",
       "    <tr>\n",
       "      <th>4</th>\n",
       "      <td>38</td>\n",
       "      <td>53</td>\n",
       "      <td>29</td>\n",
       "      <td>2</td>\n",
       "      <td>1</td>\n",
       "      <td>0.671761</td>\n",
       "      <td>40</td>\n",
       "    </tr>\n",
       "    <tr>\n",
       "      <th>...</th>\n",
       "      <td>...</td>\n",
       "      <td>...</td>\n",
       "      <td>...</td>\n",
       "      <td>...</td>\n",
       "      <td>...</td>\n",
       "      <td>...</td>\n",
       "      <td>...</td>\n",
       "    </tr>\n",
       "    <tr>\n",
       "      <th>1091016</th>\n",
       "      <td>40</td>\n",
       "      <td>396</td>\n",
       "      <td>260</td>\n",
       "      <td>15</td>\n",
       "      <td>1</td>\n",
       "      <td>0.086788</td>\n",
       "      <td>260</td>\n",
       "    </tr>\n",
       "    <tr>\n",
       "      <th>1091017</th>\n",
       "      <td>40</td>\n",
       "      <td>145</td>\n",
       "      <td>98</td>\n",
       "      <td>6</td>\n",
       "      <td>1</td>\n",
       "      <td>0.039005</td>\n",
       "      <td>98</td>\n",
       "    </tr>\n",
       "    <tr>\n",
       "      <th>1091018</th>\n",
       "      <td>40</td>\n",
       "      <td>58</td>\n",
       "      <td>33</td>\n",
       "      <td>2</td>\n",
       "      <td>1</td>\n",
       "      <td>0.063505</td>\n",
       "      <td>33</td>\n",
       "    </tr>\n",
       "    <tr>\n",
       "      <th>1091019</th>\n",
       "      <td>40</td>\n",
       "      <td>412</td>\n",
       "      <td>205</td>\n",
       "      <td>11</td>\n",
       "      <td>1</td>\n",
       "      <td>0.033324</td>\n",
       "      <td>205</td>\n",
       "    </tr>\n",
       "    <tr>\n",
       "      <th>1091020</th>\n",
       "      <td>40</td>\n",
       "      <td>171</td>\n",
       "      <td>128</td>\n",
       "      <td>7</td>\n",
       "      <td>1</td>\n",
       "      <td>0.023723</td>\n",
       "      <td>128</td>\n",
       "    </tr>\n",
       "  </tbody>\n",
       "</table>\n",
       "<p>1091021 rows × 7 columns</p>\n",
       "</div>"
      ],
      "text/plain": [
       "         ticket_type_nm  entrance_id  station_id  line_id  pass_dttm  \\\n",
       "0                    40          402         198       11          1   \n",
       "1                    53           53          29        2          1   \n",
       "2                    26           53          29        2          1   \n",
       "3                     3           53          29        2          1   \n",
       "4                    38           53          29        2          1   \n",
       "...                 ...          ...         ...      ...        ...   \n",
       "1091016              40          396         260       15          1   \n",
       "1091017              40          145          98        6          1   \n",
       "1091018              40           58          33        2          1   \n",
       "1091019              40          412         205       11          1   \n",
       "1091020              40          171         128        7          1   \n",
       "\n",
       "         time_to_under  label  \n",
       "0             0.150490    137  \n",
       "1             0.450936    155  \n",
       "2             0.602006    135  \n",
       "3             0.729248     43  \n",
       "4             0.671761     40  \n",
       "...                ...    ...  \n",
       "1091016       0.086788    260  \n",
       "1091017       0.039005     98  \n",
       "1091018       0.063505     33  \n",
       "1091019       0.033324    205  \n",
       "1091020       0.023723    128  \n",
       "\n",
       "[1091021 rows x 7 columns]"
      ]
     },
     "execution_count": 27,
     "metadata": {},
     "output_type": "execute_result"
    }
   ],
   "source": [
    "df"
   ]
  },
  {
   "cell_type": "code",
   "execution_count": 28,
   "id": "7e658561",
   "metadata": {},
   "outputs": [],
   "source": [
    "def plot_dependencies(pandas_data_frame: object, depend_col_name: str) -> None:\n",
    "    for col in pandas_data_frame.columns:\n",
    "        plt.figure()\n",
    "        plt.scatter(pandas_data_frame[col], df[depend_col_name])\n",
    "        plt.xlabel(col)\n",
    "        plt.ylabel(depend_col_name)\n",
    "        plt.title(f'{depend_col_name}({col})')\n",
    "        plt.show()"
   ]
  },
  {
   "cell_type": "code",
   "execution_count": 29,
   "id": "2f91d0c5",
   "metadata": {
    "scrolled": true
   },
   "outputs": [
    {
     "data": {
      "image/png": "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\n",
      "text/plain": [
       "<Figure size 432x288 with 1 Axes>"
      ]
     },
     "metadata": {
      "needs_background": "light"
     },
     "output_type": "display_data"
    },
    {
     "data": {
      "image/png": "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\n",
      "text/plain": [
       "<Figure size 432x288 with 1 Axes>"
      ]
     },
     "metadata": {
      "needs_background": "light"
     },
     "output_type": "display_data"
    },
    {
     "data": {
      "image/png": "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\n",
      "text/plain": [
       "<Figure size 432x288 with 1 Axes>"
      ]
     },
     "metadata": {
      "needs_background": "light"
     },
     "output_type": "display_data"
    },
    {
     "data": {
      "image/png": "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\n",
      "text/plain": [
       "<Figure size 432x288 with 1 Axes>"
      ]
     },
     "metadata": {
      "needs_background": "light"
     },
     "output_type": "display_data"
    },
    {
     "data": {
      "image/png": "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\n",
      "text/plain": [
       "<Figure size 432x288 with 1 Axes>"
      ]
     },
     "metadata": {
      "needs_background": "light"
     },
     "output_type": "display_data"
    },
    {
     "data": {
      "image/png": "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\n",
      "text/plain": [
       "<Figure size 432x288 with 1 Axes>"
      ]
     },
     "metadata": {
      "needs_background": "light"
     },
     "output_type": "display_data"
    },
    {
     "data": {
      "image/png": "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\n",
      "text/plain": [
       "<Figure size 432x288 with 1 Axes>"
      ]
     },
     "metadata": {
      "needs_background": "light"
     },
     "output_type": "display_data"
    }
   ],
   "source": [
    "plot_dependencies(pandas_data_frame=df, \n",
    "                  depend_col_name='label')"
   ]
  },
  {
   "cell_type": "code",
   "execution_count": 30,
   "id": "f86eac2c",
   "metadata": {
    "scrolled": true
   },
   "outputs": [
    {
     "data": {
      "image/png": "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\n",
      "text/plain": [
       "<Figure size 432x288 with 1 Axes>"
      ]
     },
     "metadata": {
      "needs_background": "light"
     },
     "output_type": "display_data"
    },
    {
     "data": {
      "image/png": "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\n",
      "text/plain": [
       "<Figure size 432x288 with 1 Axes>"
      ]
     },
     "metadata": {
      "needs_background": "light"
     },
     "output_type": "display_data"
    },
    {
     "data": {
      "image/png": "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\n",
      "text/plain": [
       "<Figure size 432x288 with 1 Axes>"
      ]
     },
     "metadata": {
      "needs_background": "light"
     },
     "output_type": "display_data"
    },
    {
     "data": {
      "image/png": "iVBORw0KGgoAAAANSUhEUgAAAYMAAAEXCAYAAABPkyhHAAAAOXRFWHRTb2Z0d2FyZQBNYXRwbG90bGliIHZlcnNpb24zLjUuMSwgaHR0cHM6Ly9tYXRwbG90bGliLm9yZy/YYfK9AAAACXBIWXMAAAsTAAALEwEAmpwYAAAcpElEQVR4nO3debhcdZ3n8fcnNwEStrAEB7IQ1kAUEugrQelRQGUVYWhFIijQIsMMNNjOg4RpHoWn6QalabEbMJNWFgVBwRgDRoONYM8gW4AQEkIgJJgVCUvCdpts3/njnBsqlap7T93UqVNV+byep55bZ6lT31vJPZ86v/M7v6OIwMzMtmz9ii7AzMyK5zAwMzOHgZmZOQzMzAyHgZmZ4TAwMzMcBmZmhsPAciJphKR3JHUUXUuRJI2UFJL6b8Y2hkiaJ2mbdPohSeemz8+QdH+96q3y/u9I2rvKsrMl/b/0+daSnpe0W571WD4cBlY3kl6W9GmAiFgUEdtFxLoGvv+tkq5q1Ps10ATgloj4z/IFEXFHRByT55un/44LMqz3PnAzcGme9Vg+HAZmTUpSf0lbA2cBtxddT0Y/Bc5K67YW4jCwupD0E2AEcG/arPDN0uaRtGnjKkl/TJffK2kXSXdIekvSE5JGlmzvAEm/k/RG2kRyWi/vfx5wBvDN7u2n8w9M33ulpDmSPpfhd9nQDJNOb2gKSadD0vmSXpT0pqQbJSld1iHpnyS9JmkBcGLZtneU9CNJyyUtTT+TjpL3eVjS9yS9AVwBjANWRsSSKrVmri1d/teS5qbLpkvaM8PnEZL2TZ/vImlq+m/2OLBP6bppnW8Ch/e2XWsuDgOri4j4MrAIOCkitgN+XmG104EvA0NJdiKPALcAOwNzgW8DSNoW+B3Jt8zdgPHATZI+3MP7TwLuAL6bNmucJGkAcC9wf7qdvwHukDRq839jPgt8FBgDnAYcm87/WrrsEKAT+HzZ624D1gL7puscA5xbsnwcsCCt9x+Ag4B59ahN0inA/wZOBYYA/xe4s8Zt3wj8J7A78Nfpo9zc9L2thTgMrJFuiYiXImIV8BvgpYj494hYC9xNsnOEZGf2ckTcEhFrI+Ip4BdsumPtzeHAdsA1EbE6In4P3EcSLpvrmohYGRGLgAeBsen804DrI2JxRLwBXN39AkkfAo4Hvh4R70bEq8D3SEKy27KI+Nf09+4CBgNv16m2/w5cHRFz08/8H4GxWY4O0vo7gL8CvpXWP5sk3Mq9ndZtLaTPPRzM+uDPJc+7Kkxvlz7fExgnaWXJ8v7AT2p8vz2AxRGxvmTen0iOTDbXKyXP3+OD2vcAFpe9X7c9gQHA8pKWm35l65c+h6TJZfs61bYn8H1J15UsF8nnUVpnNUNI/h2q/X7dtgdWZi3WmoPDwOqpXuOhLwb+EBGf2cz3XwYMl9SvJBBGAC/0sp13gUEl0/+lhhqWA8NLpkeUPF8MvA/smn4zr6T8d5gF/G0N79+TxcA/RMQdfXz9CpImruHA8+m8ERXWOxC4rsJ8a2JuJrJ6+jNQsT96je4D9pf0ZUkD0sdHJR1Y4/s/RrJj/2a6jSOBk4C7etnOTOBUSYPSE6dfraH2nwMXSRomaSeSbqEARMRykvMX10naQVI/SftI+mQP23scGCypHkczE4HLus+9pCezv5D1xWk34cnAFelnM5qkp9MGaZ07A4/WoV5rIIeB1dPVwOVp806t7fsbRMTbJCdWTyf5dv8K8B2gt+6KPwJGpz2HpkTEauBzJO30rwE3AV+JiOd72ghJO/5qknC5jeTEdFb/BkwHngGeItl5lvoKsBXwHEkT0D0kJ2MrSn+HW4Eza6ih2rZ+SfI53iXpLWA2yWdTiwtJmp1eSeu6pWz5l4Db0msOrIXIdzoza26Sunv+HJKeVG5K6bUFzwCfSE+OWwtxGJiZmZuJrLWkF469U+FxRhHbaQeS/muVz+KdomuzxvGRgZmZtWbX0l133TVGjhxZdBlmZi3lySeffC0ihlRa1pJhMHLkSGbMmFF0GWZmLUVS1YsLfc7AzMwcBmZm5jAwMzMcBmZmhsPAzMzIOQwk3SzpVUmzqyyXpH+RNF/SLEmH5lnP5pjy9FKOuOb37DXh1xxxze+Z8vTSoksyM6ubvLuW3grcAPy4yvLjgf3SxzjgB+nPpjLl6aVcNvlZutYk93ZfurKLyyY/C8AphwxlytNLuXb6PJat7GKPwQO55NhRnHLIB4NMXj7lWe58bDHrIuiQGD9uOFedclAhv4uZWSW5X4Gs5L6290XERyos+z/AQxFxZzo9DzgyHeq3qs7Ozqj3dQblO+zD996Jl1/vYtnKLvpJrKvyOe00aACrutawvmRxRz+x/db9WdW1hm0G9KNrzfpNXnfm4SPqEgi9BZGZWTdJT0ZEZ6VlRV90NpSN75q0JJ23SRgoueH5eQAjRlS6n0bPevp2fvmUZ7n90UUb1l0XwcMvvbHRdDVvvrdmk3nr1gcru5L5lYIA4PZHF3HHo4sYPGgAEbCqa03NO/PejljMzLIqOgxUYV7FPW96w/NJkBwZ1PImlXb23TvjIkdmCjYOk6Uru/jGz2YC2Xbm106ftyEIunWtWce10+c5DMysJkX3JlrCxrcIHEZyM5O6uqMkCEo14xB964HLJs/KtO6ylZWHtq8238ysmqKPDKYCF0q6i+TE8arezhf0RTPu9HtSrWkJNj5HUM2OAwfkUZaZtbFcw0DSncCRwK6SlgDfBgYARMREYBpwAjAfeA84J896Wl35OYJq1qyrHiZm1pry7iySaxhExPhelgdwQZ41tJNK5wgqeXd17+uYWetoRGeRos8ZWA2W+lyA2Rapp84i9eIwaCEdqtT5yszaXSM6izgMWkhP1zuYWfvqX2VPXW1+XzgMzMyaXLUOhj10PKyZw8DMzBwGzcqjo5pZIzkMmlTwQfex7kDw6WMzy4vDoMmVdh/bZoD/ucy2RNW+CNbzC6L3Li2g+/qCnoapMLP2Va0fYT37FzoMWoCvLzCzvDkMWoCvLzCzvDkMWsDQwQOB7O2DA31uwcxq5L1GCzjqgCEADNqqI9P62wzItp6ZWTeHQQt48PkVALyXcTTSSrfiNLPWtd9u29Y0vy8cBi2gezCqrEcGPuFs1l7eW125J2G1+X3hMGgBe6TnDLIeGfiEs1l78ailxsABHVxy7Cgge5/inQb5tpdm7aT7C2HW+X3hMGhSIulFdPWpB9V8JyMfGJi1l+5OJFnn90Wut720vlt4zYl9fu3KLp9ANmsn3Z1Iss7vCx8ZNKlKo5YOzXhI6BPIZu3F5wy2YJVGLc16SOgTyGbtxecMbKNRS389a3mm1/jIwKy9XHLsKPqV/Vn3Exs6l9SDw6AFdI9amvViMh8ZmLWXGX96g/Vlf9brI5lfLw6DFlDrN30fGJi1l58+tqim+X3hMGgB3d/0s+7jfWBg1l7Kjwp6m98XDoMW0N2LyPt4M8uLw6DJlV6BnLX5x1cgm7WXasPS13O4eodBk6p0BXLW5p8TD949v8LMrOGuPvXgTXbW/dL59eIrkJvU5lyBXM+rEs2seN1fCK+dPo9lK7vYY/BALjl2VM1D1fTERwYtJOsRYT2vSjSzLYOPDFrI2oxDl2/j216atZUpTy/lknueYc26pK146couLrnnGYC6HR3kvteQdJykeZLmS5pQYfmOku6V9IykOZLOybumVpW1N9H7WVPDzFrClffO2RAE3dasC668d07d3iPXMJDUAdwIHA+MBsZLGl222gXAcxExBjgSuE7SVnnW1e7q2ffYzIpXbfSBet7iNu8jg8OA+RGxICJWA3cBJ5etE8D2kgRsB7wBrM25rrbmsYnMrFZ5h8FQYHHJ9JJ0XqkbgAOBZcCzwMURscW3c1Qawjqr8eOG51CRmRVl8MDK1w5Vm98XeYdBpa+o5Y0YxwIzgT2AscANknbYZEPSeZJmSJqxYkX7d52sNIR1b9/4OyTOPHwEV51yUAMqNLNG+eyYytcOVZvfF3mHwRKg9GvqMJIjgFLnAJMjMR9YCBxQvqGImBQRnRHROWRI/W711uxKh7Cu9o3/zMNH8PI1J/LS1Sc4CMzaUDvc6ewJYD9Je6UnhU8Hppatswj4FICkDwGjgAU519VSuq8buOqUgzhin503Wrbfbtvy4PMrNqtZycya29Iq1w5Vm98XuV5nEBFrJV0ITAc6gJsjYo6k89PlE4G/B26V9CxJs9KlEfFannW1mu67GU15eimPL3xzo2UvvvruhudLV3Zxyd317XtsZluG3C86i4hpwLSyeRNLni8Djsm7jlY1oEMbBqq7Yuoc1vTSb3TN+uCKqXMcBmZWE1+q2uTWlVxosrIrW5/irOuZWWuo1nmknt3IHQZNbj3JEYGZbbn2HjKopvl94TBoAbV+0/f9DMzaS+m5wSzz+8Jh0EKyHBB29BPfPunDuddiZu3FYdAC+qUp8PGybqWVrPPARGbWBw6DFtC9f39u+duZ1v/6z2bmV4yZtSWHQQvo7jFQzxEKzcxKOQxawLqsNz82M+sjh0ELGJpegWxmlheHQQs46oAtZ2A+MyuGw6AF3PfM8qJLMLM25zBoAR5ewszy5jAwMzOHgZmZOQzMzAyHgZmZ4TAwMzMcBmZmhsPAzMxwGJiZGRnCQFKHpNsbUYyZmRWj1zCIiHXAEElbNaAeMzMrQP+M670MPCxpKrDhppsR8c95FGVmZo2VNQyWpY9+wPb5lWNmZkXIFAYRcSWApG0j4t3e1jczs9aSqTeRpI9Jeg6Ym06PkXRTrpWZmVnDZO1aej1wLPA6QEQ8A3wip5rMzKzBMl9nEBGLy2atq3MtZmZWkKwnkBdL+jgQaRfTi0ibjMzMrPVlPTI4H7gAGAosAcam02Zm1gay9iZ6DTgj51rMzKwgPYaBpH8FotryiLio7hWZmVnD9dZMNAN4EtgGOBR4MX2MJeMJZEnHSZonab6kCVXWOVLSTElzJP0hc/VmZlYXPR4ZRMRtAJLOBo6KiDXp9ETg/t42LqkDuBH4DMm5hickTY2I50rWGQzcBBwXEYsk7da3X8XMzPoq6wnkPdh4GIrt0nm9OQyYHxELImI1cBdwctk6XwImR8QigIh4NWNNW5SRE35ddAlm1saydi29Bnha0oPp9CeBKzK8bihQen3CEmBc2Tr7AwMkPUQSON+PiB+Xb0jSecB5ACNGjMhYtpmZZZG1N9Etkn7DBzvyCRHxSoaXqtLmKtTwF8CngIHAI5IejYgXymqYBEwC6OzsrHpS28zMalfLnc46gBXAm8D+krIMR7EEGF4yPYxk9NPydX4bEe+mXVj/AxhTQ11mZraZMh0ZSPoO8EVgDrA+nR0kO+6ePAHsJ2kvYClwOsk5glK/Am6Q1B/YiuTo43uZqjczs7rIes7gFGBURLxfy8YjYq2kC4HpJEcWN0fEHEnnp8snRsRcSb8FZpEEzQ8jYnYt72NmZpsnaxgsAAYANYUBQERMA6aVzZtYNn0tcG2t2zYzs/rIGgbvATMlPUBJIPgKZDOz9pA1DKamDzMza0NZu5belnchZmZWnKy9iRZSYcC6iNi77hWZmVnDZW0m6ix5vg3wBWDn+pdjZmZFyHTRWUS8XvJYGhHXA0fnW5qZmTVK1maiQ0sm+5EcKWxfZXUzM2sxWZuJrit5vhZYCJxW/3KsGtHDXYbMzDZT1t5ER/W0XNJZ7nGUr4XXnOhhrM0sN7UMVNeTi+u0HTMzK0C9wqDSUNVmZtYi6hUGbs42M2thPjIwM7O6hcHDddqOmZkVIFMYSNpR0vckzUgf10nasXt5RFyYX4lmZpa3rEcGNwNvkVxbcFr6/Ja8ijIzs8bKetHZPhHxVyXTV0qamUM9ZmZWgKxHBl2S/rJ7QtIRQFc+JZmZWaNlPTI4H/hxyXmCN4Gz8inJzMwaLWsYvBURYyTtABARb0naK8e6rMxeHorCzHKUtZnoF5CEQES8lc67J5+SrBJf1WdmeerxyEDSAcCHgR0lnVqyaAeSm9yYmVkb6K2ZaBTwWWAwcFLJ/LeBr+VUk5mZNViPYRARvwJ+JeljEfFItfUkXRYRV9e9OjMza4ist72sGgSpL9ShFjMzK4gHqjMzMw9hbWZmPjIwMzPqFwZ312k7ZmZWgKxDWO8v6QFJs9PpgyVd3r08Iv4xrwLNzCx/WY8M/g24DFgDEBGzgNPzKsrMzBoraxgMiojHy+atzfJCScdJmidpvqQJPaz3UUnrJH0+Y01mZlYnWcPgNUn7kPYaSnfYy3t7kaQO4EbgeGA0MF7S6CrrfQeYnrEeMzOro6yjll4ATAIOkLQUWAicmeF1hwHzI2IBgKS7gJOB58rW+xuSwfA+mrEeMzOro0xhkO7MPy1pW6BfRLydcftDgcUl00uAcaUrSBoK/DfgaHoIA0nnAecBjBgxIuPbm5lZFpnCQNJg4CvASKC/lFxWEBEX9fbSCvPKL1C7Hrg0ItZ1b7eSiJhEcnRCZ2enL3IzM6ujrM1E04BHgWeB9TVsfwkwvGR6GLCsbJ1O4K40CHYFTpC0NiKm1PA+Zma2GbKGwTYR8Y0+bP8JYL/0rmhLSbqjfql0hYjYcMc0SbcC9zkIzMwaK2sY/ETS14D7gPe7Z0bEGz29KCLWSrqQpJdQB3BzRMyRdH66fGLfyjYzs3rKGgargWuBv+ODNv8A9u7thRExjaSZqXRexRCIiLMz1mNmZnWUNQy+AewbEa/lWYyZmRUj60Vnc4D38izEzMyKk/XIYB0wU9KDbHzOoLeupWZm1gKyhsGU9GFmZm0o6xXIt+VdiJmZFafHMJD084g4TdKzbHrlcETEmPxKMzOzRuntyODi9Odc4JKS+QK+m0tFZmbWcD2GQUR0D1O9b0T8qXSZpANyq8rMzBqqt2ai/wH8T2BvSbNKFm0PPJxnYWZm1ji9NRP9FPgNcDVQepeyt3sbisLMzFpHb81Eq4BVwPjGlGNmZkXIegWymZm1MYeBmZk5DMzMzGFgZmY4DMzMDIdBy1DRBZhZW3MYmJmZw6BVlI8SaGZWTw4DMzNzGJiZmcPAzMxwGJiZGQ4DMzPDYWBmZjgMzMwMh4GZmeEwMDMzHAZmZobDwMzMcBiYmRkOAzMzowFhIOk4SfMkzZc0ocLyMyTNSh9/lDQm75rMzGxjuYaBpA7gRuB4YDQwXtLostUWAp+MiIOBvwcm5VmTmZltKu8jg8OA+RGxICJWA3cBJ5euEBF/jIg308lHgWE512RmZmXyDoOhwOKS6SXpvGq+Cvym0gJJ50maIWnGihUr6liimZnlHQaVbt1b8aZdko4iCYNLKy2PiEkR0RkRnUOGDKljiWZm1j/n7S8BhpdMDwOWla8k6WDgh8DxEfF6zjWZmVmZvI8MngD2k7SXpK2A04GppStIGgFMBr4cES/kXI+ZmVWQ65FBRKyVdCEwHegAbo6IOZLOT5dPBL4F7ALcJAlgbUR05lmXmZltLO9mIiJiGjCtbN7EkufnAufmXYeZmVXnK5DNzMxhYGZmDgMzM8NhYGZmOAzMzAyHgZmZ4TAwMzMcBmZmhsPAzMxwGJiZGQ4DMzPDYWBmZjgMzMwMh4GZmeEwMDMzHAZmZobDwMzMcBiYmRkOAzMzw2FgZmY4DMzMDIeBmZnhMDAzMxwGZmaGw8DMzHAYmJkZDgMzM8NhYGZmOAzMzAyHgZmZ4TAwMzMaEAaSjpM0T9J8SRMqLJekf0mXz5J0aN41mZnZxnINA0kdwI3A8cBoYLyk0WWrHQ/slz7OA36QZ01mZrapvI8MDgPmR8SCiFgN3AWcXLbOycCPI/EoMFjS7vUs4uVrTqzn5hpu6OCBKP2ZRav/vma2sWp/0/X8W+9fty1VNhRYXDK9BBiXYZ2hwPLSlSSdR3LkwIgRI2ouxDtIM2tlee/D8j4yUIV50Yd1iIhJEdEZEZ1DhgypS3FmZpbIOwyWAMNLpocBy/qwjpmZ5SjvMHgC2E/SXpK2Ak4HppatMxX4Stqr6HBgVUQsL9+QmZnlJ9dzBhGxVtKFwHSgA7g5IuZIOj9dPhGYBpwAzAfeA87JsyYzM9tU3ieQiYhpJDv80nkTS54HcEHedZiZWXVK9sWtRdIK4E81vGRX4LWcytkcrqs2rqs2rqs2W0Jde0ZExR44LRkGtZI0IyI6i66jnOuqjeuqjeuqzZZel8cmMjMzh4GZmW05YTCp6AKqcF21cV21cV212aLr2iLOGZiZWc+2lCMDMzPrgcPAzMzaOwx6u7FOA+u4WdKrkmaXzNtZ0u8kvZj+3KmAuoZLelDSXElzJF3cDLVJ2kbS45KeSeu6shnqKqmvQ9LTku5rlrokvSzpWUkzJc1ooroGS7pH0vPp/7OPFV2XpFHp59T9eEvS14uuK63tb9P/87Ml3Zn+LTSkrrYNg4w31mmUW4HjyuZNAB6IiP2AB9LpRlsL/K+IOBA4HLgg/YyKru194OiIGAOMBY5Lx60quq5uFwNzS6abpa6jImJsSZ/0Zqjr+8BvI+IAYAzJ51ZoXRExL/2cxgJ/QTIMzi+LrkvSUOAioDMiPkIyhM/pDasrItryAXwMmF4yfRlwWYH1jARml0zPA3ZPn+8OzGuCz+xXwGeaqTZgEPAUyX0wCq+LZFTdB4Cjgfua5d8SeBnYtWxeoXUBOwALSTuqNEtdZbUcAzzcDHXxwb1ddiYZKui+tL6G1NW2RwZUv2lOs/hQpKOzpj93K7IYSSOBQ4DHaILa0qaYmcCrwO8ioinqAq4HvgmsL5nXDHUFcL+kJ9MbQTVDXXsDK4Bb0ma1H0ratgnqKnU6cGf6vNC6ImIp8E/AIpKbe62KiPsbVVc7h0Gmm+YYSNoO+AXw9Yh4q+h6ACJiXSSH8cOAwyR9pOCSkPRZ4NWIeLLoWio4IiIOJWkWvUDSJ4ouiOTb7aHADyLiEOBdimtC20Q6rP7ngLuLrgUgPRdwMrAXsAewraQzG/X+7RwGzX7TnD933+s5/flqEUVIGkASBHdExORmqg0gIlYCD5Gccym6riOAz0l6meR+3kdLur0J6iIilqU/XyVp/z6sCepaAixJj+oA7iEJh6Lr6nY88FRE/DmdLrquTwMLI2JFRKwBJgMfb1Rd7RwGWW6sU6SpwFnp87NI2usbSpKAHwFzI+Kfm6U2SUMkDU6fDyT5I3m+6Loi4rKIGBYRI0n+P/0+Is4sui5J20ravvs5STvz7KLriohXgMWSRqWzPgU8V3RdJcbzQRMRFF/XIuBwSYPSv81PkZxwb0xdRZ24adAJmROAF4CXgL8rsI47SdoA15B8W/oqsAvJicgX0587F1DXX5I0nc0CZqaPE4quDTgYeDqtazbwrXR+4Z9ZSY1H8sEJ5KI/r72BZ9LHnO7/60XXldYwFpiR/ltOAXZqkroGAa8DO5bMa4a6riT54jMb+AmwdaPq8nAUZmbW1s1EZmaWkcPAzMwcBmZm5jAwMzMcBmZmhsPAzMxwGJhtQtI76c89JN1T523/sNLouZLOlnRDPd/LrBb9iy7ArFlFMsTD5+u8zXPruT2zevGRgVkVkkYqvSFR+s19sqTfpjcZ+W7JesdIekTSU5LuTgf+q7bNhyR1ps/PkfSCpD+QjHtkVhiHgVl2Y4EvAgcBX1Ryp7hdgcuBT0cyaugM4Bu9bSgdcOxKkhD4DMkNmMwK42Yis+weiIhVAJKeA/YEBpPsyB9OxhZjK+CRDNsaBzwUESvS7f0M2D+Hms0ycRiYZfd+yfN1JH8/Irn5zvg+bM8Dg1nTcDOR2eZ5FDhC0r4A6fDDWb7hPwYcKWmX9J4SX8izSLPe+MjAbDNExApJZwN3Sto6nX05ydDpPb1uuaQrSJqUlpPc57kjx1LNeuQhrM3MzM1EZmbmZiKzXEj6JcmNzUtdGhHTi6jHrDduJjIzMzcTmZmZw8DMzHAYmJkZDgMzMwP+PyWtDFhOtmOuAAAAAElFTkSuQmCC\n",
      "text/plain": [
       "<Figure size 432x288 with 1 Axes>"
      ]
     },
     "metadata": {
      "needs_background": "light"
     },
     "output_type": "display_data"
    },
    {
     "data": {
      "image/png": "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\n",
      "text/plain": [
       "<Figure size 432x288 with 1 Axes>"
      ]
     },
     "metadata": {
      "needs_background": "light"
     },
     "output_type": "display_data"
    },
    {
     "data": {
      "image/png": "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\n",
      "text/plain": [
       "<Figure size 432x288 with 1 Axes>"
      ]
     },
     "metadata": {
      "needs_background": "light"
     },
     "output_type": "display_data"
    },
    {
     "data": {
      "image/png": "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\n",
      "text/plain": [
       "<Figure size 432x288 with 1 Axes>"
      ]
     },
     "metadata": {
      "needs_background": "light"
     },
     "output_type": "display_data"
    }
   ],
   "source": [
    "plot_dependencies(pandas_data_frame=df, \n",
    "                  depend_col_name='time_to_under')"
   ]
  },
  {
   "cell_type": "code",
   "execution_count": 41,
   "id": "129d3eb2",
   "metadata": {},
   "outputs": [],
   "source": [
    "X = df.drop(columns=['time_to_under', 'label'])\n",
    "y = df['time_to_under']\n",
    "X_train_r, X_test_r, y_train_r, y_test_r = train_test_split(X, y, test_size=0.01)\n",
    "y = df['label']\n",
    "X_train_c, X_test_c, y_train_c, y_test_c = train_test_split(X, y, test_size=0.01)"
   ]
  },
  {
   "cell_type": "code",
   "execution_count": 47,
   "id": "0120a273",
   "metadata": {},
   "outputs": [],
   "source": [
    "r_model = CatBoostRegressor(iterations=2,\n",
    "                            learning_rate=1,\n",
    "                            depth=2)\n",
    "c_model = CatBoostClassifier(iterations=2,\n",
    "                             learning_rate=1,\n",
    "                             depth=2)"
   ]
  },
  {
   "cell_type": "code",
   "execution_count": 49,
   "id": "d437a5d9",
   "metadata": {},
   "outputs": [
    {
     "name": "stdout",
     "output_type": "stream",
     "text": [
      "0:\tlearn: 0.1283659\ttotal: 58.7ms\tremaining: 58.7ms\n",
      "1:\tlearn: 0.1245388\ttotal: 104ms\tremaining: 0us\n"
     ]
    }
   ],
   "source": [
    "r_model.fit(X_train_r, y_train_r)\n",
    "time_to_under_predicted = r_model.predict(X_test_r)"
   ]
  },
  {
   "cell_type": "code",
   "execution_count": 51,
   "id": "eee8b80e",
   "metadata": {},
   "outputs": [
    {
     "name": "stdout",
     "output_type": "stream",
     "text": [
      "0:\tlearn: 5.8766363\ttotal: 1m 15s\tremaining: 1m 15s\n",
      "1:\tlearn: 26.3061522\ttotal: 3m 27s\tremaining: 0us\n"
     ]
    }
   ],
   "source": [
    "c_model.fit(X_train_c, y_train_c)\n",
    "labels_predicted = c_model.predict(X_test_c)"
   ]
  },
  {
   "cell_type": "code",
   "execution_count": 52,
   "id": "6dfdbdc8",
   "metadata": {},
   "outputs": [
    {
     "data": {
      "text/plain": [
       "0.2111091436352991"
      ]
     },
     "execution_count": 52,
     "metadata": {},
     "output_type": "execute_result"
    }
   ],
   "source": [
    "result = 0.5*r2_score(y_test_r, time_to_under_predicted) + 0.5*recall_score(y_test_c, labels_predicted, average='micro')\n",
    "result"
   ]
  }
 ],
 "metadata": {
  "kernelspec": {
   "display_name": "Python 3 (ipykernel)",
   "language": "python",
   "name": "python3"
  },
  "language_info": {
   "codemirror_mode": {
    "name": "ipython",
    "version": 3
   },
   "file_extension": ".py",
   "mimetype": "text/x-python",
   "name": "python",
   "nbconvert_exporter": "python",
   "pygments_lexer": "ipython3",
   "version": "3.9.12"
  }
 },
 "nbformat": 4,
 "nbformat_minor": 5
}
